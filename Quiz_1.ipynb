{
  "nbformat": 4,
  "nbformat_minor": 0,
  "metadata": {
    "colab": {
      "name": "Quiz#1.ipynb",
      "provenance": [],
      "authorship_tag": "ABX9TyNcVLOLDSqDHCKrlYlbAUXA",
      "include_colab_link": true
    },
    "kernelspec": {
      "name": "python3",
      "display_name": "Python 3"
    },
    "language_info": {
      "name": "python"
    }
  },
  "cells": [
    {
      "cell_type": "markdown",
      "metadata": {
        "id": "view-in-github",
        "colab_type": "text"
      },
      "source": [
        "<a href=\"https://colab.research.google.com/github/JulianBasilio/OOP_58003/blob/main/Quiz_1.ipynb\" target=\"_parent\"><img src=\"https://colab.research.google.com/assets/colab-badge.svg\" alt=\"Open In Colab\"/></a>"
      ]
    },
    {
      "cell_type": "code",
      "execution_count": null,
      "metadata": {
        "id": "0508DQrtcwjq"
      },
      "outputs": [],
      "source": [
        "Quiz #1"
      ]
    },
    {
      "cell_type": "code",
      "source": [
        "class Bank_Account:\n",
        "    # create the constuctor with parameters: accountNumber, name and balance \n",
        "    def __init__(self,AccountNumber, Name, balance):\n",
        "        self.AccountNumber = AccountNumber\n",
        "        self.Name = Name\n",
        "        self.balance = balance\n",
        "        \n",
        "    # create Deposit() method\n",
        "    def Deposit(self , d ):\n",
        "        self.balance = self.balance + d\n",
        "    \n",
        "    # create display() method\n",
        "    def display(self):\n",
        "        print(\"Account Number : \" , self.AccountNumber)\n",
        "        print(\"Account Name : \" , self.Name)\n",
        "        print(\"Account Balance : \" , self.balance , \" php\")\n",
        "\n",
        "#code test       \n",
        "fakegcashacc = Bank_Account(123456789, \"Julian Manuel Basilio\", 20)\n",
        "fakegcashacc.Deposit(100)\n",
        "fakegcashacc.display()"
      ],
      "metadata": {
        "id": "wfyb9ANu5WL7",
        "colab": {
          "base_uri": "https://localhost:8080/"
        },
        "outputId": "ccb69e78-0775-4bb9-c5cf-fdf0e4922088"
      },
      "execution_count": 55,
      "outputs": [
        {
          "output_type": "stream",
          "name": "stdout",
          "text": [
            "Account Number :  123456789\n",
            "Account Name :  Julian Manuel Basilio\n",
            "Account Balance :  120  php\n"
          ]
        }
      ]
    }
  ]
}