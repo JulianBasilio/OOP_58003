{
  "nbformat": 4,
  "nbformat_minor": 0,
  "metadata": {
    "colab": {
      "name": "Concepts of OOP.ipynb",
      "provenance": [],
      "authorship_tag": "ABX9TyNDTxVe4YUUA40V6dcGY2wz",
      "include_colab_link": true
    },
    "kernelspec": {
      "name": "python3",
      "display_name": "Python 3"
    },
    "language_info": {
      "name": "python"
    }
  },
  "cells": [
    {
      "cell_type": "markdown",
      "metadata": {
        "id": "view-in-github",
        "colab_type": "text"
      },
      "source": [
        "<a href=\"https://colab.research.google.com/github/JulianBasilio/OOP_58003/blob/main/Concepts_of_OOP.ipynb\" target=\"_parent\"><img src=\"https://colab.research.google.com/assets/colab-badge.svg\" alt=\"Open In Colab\"/></a>"
      ]
    },
    {
      "cell_type": "markdown",
      "source": [
        "Application 1"
      ],
      "metadata": {
        "id": "be9MnvHVxeuV"
      }
    },
    {
      "cell_type": "code",
      "source": [
        "class Rectangle:\n",
        "  def __innit__(self,length,width):\n",
        "    self.length = length\n",
        "    self.width = width\n",
        "\n",
        "  def Area(self):\n",
        "    return self.length*self.width\n",
        "\n",
        "  def Perimeter(self):\n",
        "    return 2*(self.length+self.width)\n",
        "\n",
        "  def display(self):\n",
        "    print(\"The Area of the rectangle is\",self.Area())\n",
        "    print(\"The Perimeter of the rectangel is\",self.Perimeter())\n",
        "    \n",
        "    rectangle = Rectangle(7,4.5)\n",
        "    print(rectangle.display())"
      ],
      "metadata": {
        "id": "wfyb9ANu5WL7"
      },
      "execution_count": 19,
      "outputs": []
    },
    {
      "cell_type": "markdown",
      "source": [
        "Application 2- Write a Python Program that displays your fullname (Surname, First Name), and name your class as OOP_58003"
      ],
      "metadata": {
        "id": "dXZrZwGN_cRo"
      }
    },
    {
      "cell_type": "code",
      "source": [
        "class OOP_58003:\n",
        "   surname = \"Basilio,\"\n",
        "   firstname = \"Julian Manuel\"\n",
        "   print(surname,firstname)"
      ],
      "metadata": {
        "colab": {
          "base_uri": "https://localhost:8080/"
        },
        "id": "UJGxplty0aA4",
        "outputId": "6155a7bc-bd6f-45b6-ea5f-f45e2bfb38a7"
      },
      "execution_count": 18,
      "outputs": [
        {
          "output_type": "stream",
          "name": "stdout",
          "text": [
            "Basilio, Julian Manuel\n"
          ]
        }
      ]
    },
    {
      "cell_type": "markdown",
      "source": [
        ""
      ],
      "metadata": {
        "id": "_eZ1X8Jx4TCH"
      }
    }
  ]
}