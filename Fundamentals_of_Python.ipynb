{
  "nbformat": 4,
  "nbformat_minor": 0,
  "metadata": {
    "colab": {
      "name": "Fundamentals of Python.ipynb",
      "provenance": [],
      "authorship_tag": "ABX9TyNfeNQXQYVLINk8GFy2uHyA",
      "include_colab_link": true
    },
    "kernelspec": {
      "name": "python3",
      "display_name": "Python 3"
    },
    "language_info": {
      "name": "python"
    }
  },
  "cells": [
    {
      "cell_type": "markdown",
      "metadata": {
        "id": "view-in-github",
        "colab_type": "text"
      },
      "source": [
        "<a href=\"https://colab.research.google.com/github/JulianBasilio/OOP_58003/blob/main/Fundamentals_of_Python.ipynb\" target=\"_parent\"><img src=\"https://colab.research.google.com/assets/colab-badge.svg\" alt=\"Open In Colab\"/></a>"
      ]
    },
    {
      "cell_type": "markdown",
      "source": [
        "Python Indentation"
      ],
      "metadata": {
        "id": "pwf0thpxxJZY"
      }
    },
    {
      "cell_type": "code",
      "source": [
        "if 6>7:\n",
        "  print(\"6 is greater than 4\")\n",
        "else: \n",
        "  print(\"6 is less than a number\")\n",
        "  "
      ],
      "metadata": {
        "colab": {
          "base_uri": "https://localhost:8080/"
        },
        "id": "EkfEdoQerVi6",
        "outputId": "39991d58-1636-41cb-bd30-4214f8ebdd19"
      },
      "execution_count": 6,
      "outputs": [
        {
          "output_type": "stream",
          "name": "stdout",
          "text": [
            "6 is less than a number\n"
          ]
        }
      ]
    },
    {
      "cell_type": "markdown",
      "source": [
        "Python Comments"
      ],
      "metadata": {
        "id": "TEBD-5olsQKP"
      }
    },
    {
      "cell_type": "code",
      "source": [
        "print(\"Hello, World\")  #This is a comment"
      ],
      "metadata": {
        "colab": {
          "base_uri": "https://localhost:8080/"
        },
        "id": "BYRgv2z7vGhl",
        "outputId": "2025cbb7-8da0-4325-8545-328a3cee9d3c"
      },
      "execution_count": 11,
      "outputs": [
        {
          "output_type": "stream",
          "name": "stdout",
          "text": [
            "Hello, World\n"
          ]
        }
      ]
    },
    {
      "cell_type": "markdown",
      "source": [
        "Python Variables"
      ],
      "metadata": {
        "id": "v6UggaQCtQsv"
      }
    },
    {
      "cell_type": "code",
      "source": [
        "a=1\n",
        "b,c=0,2\n",
        "c,d,e=2,3,4\n",
        "\n",
        "name=\"Ana\"\n",
        "\n",
        "print(e)\n",
        "print(d)\n",
        "print(name)"
      ],
      "metadata": {
        "colab": {
          "base_uri": "https://localhost:8080/"
        },
        "id": "GMoVenjlvK5o",
        "outputId": "28b377f9-f304-432d-92e6-7c28aa7bc051"
      },
      "execution_count": 5,
      "outputs": [
        {
          "output_type": "stream",
          "name": "stdout",
          "text": [
            "4\n",
            "3\n",
            "Ana\n"
          ]
        }
      ]
    },
    {
      "cell_type": "markdown",
      "source": [
        "Casting"
      ],
      "metadata": {
        "id": "coJBvV88t_xI"
      }
    },
    {
      "cell_type": "code",
      "source": [
        "a=int(1)\n",
        "\n",
        "print(a)"
      ],
      "metadata": {
        "colab": {
          "base_uri": "https://localhost:8080/"
        },
        "id": "ykDebYyovMZ8",
        "outputId": "8118b7b3-f7a8-496d-d21f-55ea43fd8275"
      },
      "execution_count": 19,
      "outputs": [
        {
          "output_type": "stream",
          "name": "stdout",
          "text": [
            "1\n"
          ]
        }
      ]
    },
    {
      "cell_type": "markdown",
      "source": [
        "Type() function"
      ],
      "metadata": {
        "id": "q-YPh-XjuQfc"
      }
    },
    {
      "cell_type": "code",
      "source": [
        "a=int(2)\n",
        "b=float(4.50)\n",
        "\n",
        "print(type(a))\n",
        "print(type(b))"
      ],
      "metadata": {
        "colab": {
          "base_uri": "https://localhost:8080/"
        },
        "id": "7EYiMp5FvPuJ",
        "outputId": "a0fb26f5-b7cb-47a6-9c69-788ab488539c"
      },
      "execution_count": 20,
      "outputs": [
        {
          "output_type": "stream",
          "name": "stdout",
          "text": [
            "<class 'int'>\n",
            "<class 'float'>\n"
          ]
        }
      ]
    },
    {
      "cell_type": "markdown",
      "source": [
        "Double quotes and Single Quotes"
      ],
      "metadata": {
        "id": "-J761QxWuseI"
      }
    },
    {
      "cell_type": "code",
      "source": [
        "name = 'John'\n",
        "\n",
        "print(name)"
      ],
      "metadata": {
        "colab": {
          "base_uri": "https://localhost:8080/"
        },
        "id": "8Jc-vgNHvREI",
        "outputId": "cac1809a-6ff8-412b-9929-af4413f66ab9"
      },
      "execution_count": 21,
      "outputs": [
        {
          "output_type": "stream",
          "name": "stdout",
          "text": [
            "John\n"
          ]
        }
      ]
    },
    {
      "cell_type": "markdown",
      "source": [
        "Case Sensitive"
      ],
      "metadata": {
        "id": "G-EJl5Xvu7nS"
      }
    },
    {
      "cell_type": "code",
      "source": [
        "print(a)\n",
        "A = \"l\"\n",
        "\n",
        "print(A)"
      ],
      "metadata": {
        "colab": {
          "base_uri": "https://localhost:8080/",
          "height": 217
        },
        "id": "skkjc-levTGi",
        "outputId": "b06292c7-732c-441e-f41c-4c07c5767f7a"
      },
      "execution_count": 4,
      "outputs": [
        {
          "output_type": "error",
          "ename": "NameError",
          "evalue": "ignored",
          "traceback": [
            "\u001b[0;31m---------------------------------------------------------------------------\u001b[0m",
            "\u001b[0;31mNameError\u001b[0m                                 Traceback (most recent call last)",
            "\u001b[0;32m<ipython-input-4-a2bab4dc1ef1>\u001b[0m in \u001b[0;36m<module>\u001b[0;34m()\u001b[0m\n\u001b[0;32m----> 1\u001b[0;31m \u001b[0mprint\u001b[0m\u001b[0;34m(\u001b[0m\u001b[0ma\u001b[0m\u001b[0;34m)\u001b[0m\u001b[0;34m\u001b[0m\u001b[0;34m\u001b[0m\u001b[0m\n\u001b[0m\u001b[1;32m      2\u001b[0m \u001b[0mA\u001b[0m \u001b[0;34m=\u001b[0m \u001b[0;34m\"l\"\u001b[0m\u001b[0;34m\u001b[0m\u001b[0;34m\u001b[0m\u001b[0m\n\u001b[1;32m      3\u001b[0m \u001b[0;34m\u001b[0m\u001b[0m\n\u001b[1;32m      4\u001b[0m \u001b[0mprint\u001b[0m\u001b[0;34m(\u001b[0m\u001b[0mA\u001b[0m\u001b[0;34m)\u001b[0m\u001b[0;34m\u001b[0m\u001b[0;34m\u001b[0m\u001b[0m\n",
            "\u001b[0;31mNameError\u001b[0m: name 'a' is not defined"
          ]
        }
      ]
    },
    {
      "cell_type": "markdown",
      "source": [
        "Multiple Variables with Single Value"
      ],
      "metadata": {
        "id": "JaMnD1L_vdtL"
      }
    },
    {
      "cell_type": "code",
      "source": [
        "f=g=h=\"Tony\"\n",
        "\n",
        "print(f)\n",
        "print(g)\n",
        "print(h)\n",
        "print(f,g,h)"
      ],
      "metadata": {
        "colab": {
          "base_uri": "https://localhost:8080/"
        },
        "id": "2f4VEfeIvbc2",
        "outputId": "be26d0ef-70cf-4706-c933-21bdb4cf65f9"
      },
      "execution_count": 2,
      "outputs": [
        {
          "output_type": "stream",
          "name": "stdout",
          "text": [
            "Tony\n",
            "Tony\n",
            "Tony\n",
            "Tony Tony Tony\n"
          ]
        }
      ]
    },
    {
      "cell_type": "markdown",
      "source": [
        "Output Variables"
      ],
      "metadata": {
        "id": "3dj_Da0uwAgZ"
      }
    },
    {
      "cell_type": "code",
      "source": [
        "print(\"Welcome to Python Programming\")\n",
        "x = \"Welcome to\"\n",
        "y= \"Python Programming\"\n",
        "print(x+\" \" + y)"
      ],
      "metadata": {
        "id": "_yWqAIEivu6F"
      },
      "execution_count": null,
      "outputs": []
    },
    {
      "cell_type": "markdown",
      "source": [
        "Arithmetic Operations"
      ],
      "metadata": {
        "id": "ISlOb_Law_fj"
      }
    },
    {
      "cell_type": "code",
      "source": [
        "print(1+1)\n",
        "print(1-1)\n",
        "print(1*1)\n",
        "print(int(1/1))\n",
        "print(3//2)\n",
        "print(3**2)"
      ],
      "metadata": {
        "id": "JbB4Adw8vyDM"
      },
      "execution_count": null,
      "outputs": []
    },
    {
      "cell_type": "markdown",
      "source": [
        "Assignment Operators"
      ],
      "metadata": {
        "id": "4W_jDRTsxlyi"
      }
    },
    {
      "cell_type": "code",
      "source": [
        "p=5\n",
        "\n",
        "p%=2   #Same as p = p%2\n",
        "print(p)"
      ],
      "metadata": {
        "id": "S2UVxzLwvz-5"
      },
      "execution_count": null,
      "outputs": []
    },
    {
      "cell_type": "markdown",
      "source": [
        "Comparison Operators\n"
      ],
      "metadata": {
        "id": "m8vRll1IyOuf"
      }
    },
    {
      "cell_type": "code",
      "source": [
        "s = 11\n",
        "t = 12\n",
        "\n",
        "s>t\n",
        "\n"
      ],
      "metadata": {
        "colab": {
          "base_uri": "https://localhost:8080/"
        },
        "id": "_nJ-WfCGv1la",
        "outputId": "9bdea94a-f761-4fc8-998b-4d98ac7d1858"
      },
      "execution_count": 13,
      "outputs": [
        {
          "output_type": "execute_result",
          "data": {
            "text/plain": [
              "False"
            ]
          },
          "metadata": {},
          "execution_count": 13
        }
      ]
    },
    {
      "cell_type": "markdown",
      "source": [
        "Logical Operators"
      ],
      "metadata": {
        "id": "kZICmE0yycH_"
      }
    },
    {
      "cell_type": "code",
      "source": [
        "print(s>t and t>s)  \n",
        "print(s>t or t>s)  "
      ],
      "metadata": {
        "colab": {
          "base_uri": "https://localhost:8080/"
        },
        "outputId": "2897c3d1-db13-4b01-e920-42fab52c769a",
        "id": "E5gMbimqytl9"
      },
      "execution_count": 14,
      "outputs": [
        {
          "output_type": "stream",
          "name": "stdout",
          "text": [
            "False\n",
            "True\n"
          ]
        }
      ]
    },
    {
      "cell_type": "markdown",
      "source": [
        "Identity Operators"
      ],
      "metadata": {
        "id": "X7qjNDrxybOR"
      }
    },
    {
      "cell_type": "code",
      "source": [
        "print(s>t and t>s)  \n",
        "print(s>t or t>s)  "
      ],
      "metadata": {
        "colab": {
          "base_uri": "https://localhost:8080/"
        },
        "id": "lS70Ep0Vye8U",
        "outputId": "b675df21-ee3d-4a7b-97e5-a04a50fda402"
      },
      "execution_count": 15,
      "outputs": [
        {
          "output_type": "stream",
          "name": "stdout",
          "text": [
            "False\n",
            "True\n"
          ]
        }
      ]
    },
    {
      "cell_type": "code",
      "source": [
        "print(s is t)\n",
        "print(t is not s)"
      ],
      "metadata": {
        "colab": {
          "base_uri": "https://localhost:8080/"
        },
        "id": "_vAge1ey9UMd",
        "outputId": "348fdbab-b3a3-48c9-fcb8-f4f662b8f50b"
      },
      "execution_count": 17,
      "outputs": [
        {
          "output_type": "stream",
          "name": "stdout",
          "text": [
            "False\n",
            "True\n"
          ]
        }
      ]
    },
    {
      "cell_type": "markdown",
      "source": [
        "Bitwise Operators"
      ],
      "metadata": {
        "id": "esWps80P-FD2"
      }
    },
    {
      "cell_type": "code",
      "source": [
        "q = 5    # binary 0101\n",
        "v = 4\n",
        "\n",
        "print(5|4)\n",
        "print(5^4)"
      ],
      "metadata": {
        "colab": {
          "base_uri": "https://localhost:8080/"
        },
        "id": "EkhUqi5DwKzF",
        "outputId": "02fe732c-8270-493f-da04-c1141399347f"
      },
      "execution_count": 16,
      "outputs": [
        {
          "output_type": "stream",
          "name": "stdout",
          "text": [
            "5\n",
            "1\n"
          ]
        }
      ]
    },
    {
      "cell_type": "markdown",
      "source": [
        "Identity Operators"
      ],
      "metadata": {
        "id": "iGD661e79Si-"
      }
    },
    {
      "cell_type": "code",
      "source": [
        "age = int(input())\n",
        "\n",
        "if age==18:\n",
        "  print(\"Your age is allowed to vote\")"
      ],
      "metadata": {
        "colab": {
          "base_uri": "https://localhost:8080/"
        },
        "id": "9luUY4yfwLXr",
        "outputId": "ad9b6886-2ee4-4c8a-f341-21720099f173"
      },
      "execution_count": 18,
      "outputs": [
        {
          "output_type": "stream",
          "name": "stdout",
          "text": [
            "18\n",
            "Your age is allowed to vote\n"
          ]
        }
      ]
    }
  ]
}