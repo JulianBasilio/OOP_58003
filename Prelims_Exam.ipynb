{
  "nbformat": 4,
  "nbformat_minor": 0,
  "metadata": {
    "colab": {
      "name": "Prelims Exam.ipynb",
      "provenance": [],
      "authorship_tag": "ABX9TyOOpKQOIw4JcCEmWYKJB84m",
      "include_colab_link": true
    },
    "kernelspec": {
      "name": "python3",
      "display_name": "Python 3"
    },
    "language_info": {
      "name": "python"
    }
  },
  "cells": [
    {
      "cell_type": "markdown",
      "metadata": {
        "id": "view-in-github",
        "colab_type": "text"
      },
      "source": [
        "<a href=\"https://colab.research.google.com/github/JulianBasilio/OOP_58003/blob/main/Prelims_Exam.ipynb\" target=\"_parent\"><img src=\"https://colab.research.google.com/assets/colab-badge.svg\" alt=\"Open In Colab\"/></a>"
      ]
    },
    {
      "cell_type": "markdown",
      "source": [
        "Write a Python to display your full name, student number, age, and course\n",
        "Create a class named Student with attributes: Name, Student_No, Age, School, and Course\n",
        "Create an object name Myself and assign an instance for each attribute.\n",
        "Create a method Self () using an instantiation of a class.\n",
        "Insert your GitHub link \"Prelim Exam\" from your repository named \"OOP 58003\" "
      ],
      "metadata": {
        "id": "EPvqPlA2JOsE"
      }
    },
    {
      "cell_type": "code",
      "source": [
        "class Student:\n",
        "    \n",
        "    def __init__(self,Name,Student_No,Age,School,Course):\n",
        "        self.Name = Name\n",
        "        self.Student_No = Student_No\n",
        "        self.Age = Age\n",
        "        self.School = School\n",
        "        self.Course = Course\n",
        "        \n",
        "    def display(self):\n",
        "        print(\"Student's name is : \" , self.Name)\n",
        "        print(\"Student Number : \" , self.Student_No)\n",
        "        print(\"Student's age is : \", self.Age)\n",
        "        print(\"Student's School is : \" , self.School )\n",
        "        print(\"Student's course is : \", self.Course)\n",
        "       \n",
        "Myself= Student(\"Julian Manuel Madriñan Basilio\" , 202117771 , 19 , \"Adamson University\" , \"Computer Engineering\"  )\n",
        "Myself.display()\n",
        " "
      ],
      "metadata": {
        "id": "fRs9auo2JfyU",
        "colab": {
          "base_uri": "https://localhost:8080/"
        },
        "outputId": "e1f0f948-c460-4a56-88cd-98eb1b15dd3e"
      },
      "execution_count": 15,
      "outputs": [
        {
          "output_type": "stream",
          "name": "stdout",
          "text": [
            "Student's name is :  Julian Manuel Madriñan Basilio\n",
            "Student Number :  202117771\n",
            "Student's age is :  19\n",
            "Student's School is :  Adamson University\n",
            "Student's course is :  Computer Engineering\n"
          ]
        }
      ]
    }
  ]
}