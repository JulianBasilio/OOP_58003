{
  "nbformat": 4,
  "nbformat_minor": 0,
  "metadata": {
    "colab": {
      "name": "OOP concepts 2.ipynb",
      "provenance": [],
      "authorship_tag": "ABX9TyPHGeFhBSHf0A3dztgJOfLC",
      "include_colab_link": true
    },
    "kernelspec": {
      "name": "python3",
      "display_name": "Python 3"
    },
    "language_info": {
      "name": "python"
    }
  },
  "cells": [
    {
      "cell_type": "markdown",
      "metadata": {
        "id": "view-in-github",
        "colab_type": "text"
      },
      "source": [
        "<a href=\"https://colab.research.google.com/github/JulianBasilio/OOP_58003/blob/main/OOP_concepts_2.ipynb\" target=\"_parent\"><img src=\"https://colab.research.google.com/assets/colab-badge.svg\" alt=\"Open In Colab\"/></a>"
      ]
    },
    {
      "cell_type": "markdown",
      "source": [
        "Classes with Multiple Objects"
      ],
      "metadata": {
        "id": "Ga6D64GfMGBs"
      }
    },
    {
      "cell_type": "code",
      "execution_count": null,
      "metadata": {
        "colab": {
          "base_uri": "https://localhost:8080/"
        },
        "id": "Da8sof5qMEkr",
        "outputId": "41e8d5e2-951b-4289-b0cd-a9e1b1178463"
      },
      "outputs": [
        {
          "output_type": "stream",
          "name": "stdout",
          "text": [
            "Griffon Vulture flies above clouds\n",
            "Common Crane flies above clouds\n",
            "Emu is the national bird of the Philippines\n"
          ]
        }
      ],
      "source": [
        "class Birds:\n",
        "  def __init__(self,bird_name):\n",
        "    self.bird_name = bird_name\n",
        "  def flying_birds(self):\n",
        "    print(f\"{self.bird_name} flies above clouds\")\n",
        "  def non_flying_birds(self):\n",
        "    print(f\"{self.bird_name} is the national bird of the Philippines\")\n",
        "\n",
        "vulture = Birds(\"Griffon Vulture\")\n",
        "crane = Birds(\"Common Crane\")\n",
        "emu = Birds(\"Emu\")\n",
        "\n",
        "vulture.flying_birds()\n",
        "crane.flying_birds()\n",
        "emu.non_flying_birds()"
      ]
    },
    {
      "cell_type": "markdown",
      "source": [
        "Encapsulation mangling using double underscore"
      ],
      "metadata": {
        "id": "qAZMSzCaMORE"
      }
    },
    {
      "cell_type": "code",
      "source": [
        "class foo:\n",
        "  def __init__(self,a,b):\n",
        "    self.__a = a\n",
        "    self.__b = b\n",
        "  def add(self):\n",
        "    return self.__a + self.__b\n",
        "\n",
        "foo_object = foo(3,4)\n",
        "\n",
        "foo_object.add()\n",
        "\n",
        "foo_object.__a = 5               #foo(5,4)\n",
        "foo_object.add()"
      ],
      "metadata": {
        "id": "-GSRI0OlMTXg"
      },
      "execution_count": null,
      "outputs": []
    },
    {
      "cell_type": "code",
      "source": [
        "class Counter:\n",
        "    def __init__(self):\n",
        "        self.__current = 0\n",
        "\n",
        "    def increment(self):\n",
        "        self.__current += 1             #current = current + 1\n",
        "\n",
        "    def value(self):\n",
        "        return self.__current\n",
        "\n",
        "    def reset(self):\n",
        "        self.__current = 0\n",
        "\n",
        "\n",
        "counter = Counter()\n",
        "\n",
        "\n",
        "counter.increment()\n",
        "counter.increment()\n",
        "counter.increment()\n",
        "\n",
        "print(counter.value())\n",
        "\n",
        "counter.__current = 4\n",
        "\n",
        "print(counter.value())"
      ],
      "metadata": {
        "colab": {
          "base_uri": "https://localhost:8080/"
        },
        "id": "iXi_QvYtMXz8",
        "outputId": "819a188b-2708-443d-ca54-4c942e447b2c"
      },
      "execution_count": null,
      "outputs": [
        {
          "output_type": "stream",
          "name": "stdout",
          "text": [
            "3\n",
            "3\n"
          ]
        }
      ]
    },
    {
      "cell_type": "markdown",
      "source": [
        "Inheritance"
      ],
      "metadata": {
        "id": "AMJ39dpeMe3n"
      }
    },
    {
      "cell_type": "code",
      "source": [
        "class Person:\n",
        "  def __init__(self,firstname,surname):\n",
        "    self.firstname = firstname\n",
        "    self.surname = surname\n",
        "  def fullname(self):\n",
        "    print(self.firstname, self.surname)\n",
        "\n",
        "person = Person(\"Ana\",\"Santos\")\n",
        "person.fullname()\n",
        "\n",
        "class Student(Person):\n",
        "  pass\n",
        "\n",
        "person2 = Student(\"Mary\",\"Brown\")\n",
        "\n",
        "person2.fullname()"
      ],
      "metadata": {
        "colab": {
          "base_uri": "https://localhost:8080/"
        },
        "id": "XuzNmWKOMaav",
        "outputId": "73849a5a-518c-4a33-af8e-fad54c4999be"
      },
      "execution_count": null,
      "outputs": [
        {
          "output_type": "stream",
          "name": "stdout",
          "text": [
            "Ana Santos\n",
            "Mary Brown\n"
          ]
        }
      ]
    },
    {
      "cell_type": "markdown",
      "source": [
        "Polymorphism"
      ],
      "metadata": {
        "id": "EqdKy0gTMe7J"
      }
    },
    {
      "cell_type": "code",
      "source": [
        "class RegularPolygon:\n",
        "    def __init__(self,side):\n",
        "        self.side = side\n",
        "class Square(RegularPolygon):\n",
        "    def area(self):\n",
        "        return self.side * self.side\n",
        "class EquilateralTriangle(RegularPolygon):\n",
        "    def area(self):\n",
        "        return self.side * self.side * 0.433\n",
        "\n",
        "object = Square(4)\n",
        "object.area()\n",
        "object = EquilateralTriangle(3)\n",
        "object.area()"
      ],
      "metadata": {
        "colab": {
          "base_uri": "https://localhost:8080/"
        },
        "id": "U1aFWuP6MiEF",
        "outputId": "3a3c8bd1-867e-4397-c012-c2a11aa9b2cd"
      },
      "execution_count": null,
      "outputs": [
        {
          "output_type": "execute_result",
          "data": {
            "text/plain": [
              "3.897"
            ]
          },
          "metadata": {},
          "execution_count": 4
        }
      ]
    },
    {
      "cell_type": "markdown",
      "source": [
        "Application 1 -\n",
        "1. Create a Python program that displays the name of three students (Student 1, Student 2, and Student 3) and their term grades\n",
        "2. Create a class name Person and attributes – std1, std2, std3, pre,mid,fin\n",
        "3. Compute the average of each term grade using Grade() method\n",
        "4. Information about student’s grades must be hidden from others"
      ],
      "metadata": {
        "id": "MlkqwonpOQhH"
      }
    },
    {
      "cell_type": "code",
      "source": [
        "class Person:  #Class with std1,std2,std3 as attributes\n",
        "  def __init__(self,student):\n",
        "    self.student = student\n",
        "  def adustudent(self):\n",
        "    print(f\"{self.student}'s grades are\")\n",
        "\n",
        "std1=Person(\"Julian\")\n",
        "std2=Person(\"Manuel\")\n",
        "std3=Person(\"Basilio\")\n",
        "\n",
        "\n",
        "#grade()method\n",
        "def average(Pre,Mid,Fin):\n",
        "  avg = int(Pre+Mid+Fin)/3\n",
        "  print(\"(Prelims={0}, Midterms={1},Finals={2}),and the average is {3}.\"\n",
        "         .format(Pre,Mid,Fin,round(avg)))\n",
        "  \n",
        "#display three students and grades\n",
        "std1.adustudent() \n",
        "print()\n",
        "average(90,80,70)\n",
        "print()\n",
        "std2.adustudent()\n",
        "print()\n",
        "average(75,80,85)\n",
        "print()\n",
        "std3.adustudent()\n",
        "print()\n",
        "average(80,80,87)\n",
        "print()\n"
      ],
      "metadata": {
        "colab": {
          "base_uri": "https://localhost:8080/"
        },
        "id": "Tf9ROt4sORac",
        "outputId": "ea5abaa2-1435-4e3c-fa44-73de7f6f8206"
      },
      "execution_count": 30,
      "outputs": [
        {
          "output_type": "stream",
          "name": "stdout",
          "text": [
            "Julian's grades are\n",
            "\n",
            "(Prelims=90, Midterms=80,Finals=70),and the average is 80.\n",
            "\n",
            "Manuel's grades are\n",
            "\n",
            "(Prelims=75, Midterms=80,Finals=85),and the average is 80.\n",
            "\n",
            "Basilio's grades are\n",
            "\n",
            "(Prelims=80, Midterms=80,Finals=87),and the average is 82.\n",
            "\n"
          ]
        }
      ]
    },
    {
      "cell_type": "code",
      "source": [
        ""
      ],
      "metadata": {
        "id": "pDlPQgk1dmV2"
      },
      "execution_count": null,
      "outputs": []
    }
  ]
}