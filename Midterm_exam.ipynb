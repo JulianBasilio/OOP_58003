{
  "nbformat": 4,
  "nbformat_minor": 0,
  "metadata": {
    "colab": {
      "name": "Midterm exam.ipynb",
      "provenance": [],
      "authorship_tag": "ABX9TyMR6RumiTUMmEapdBtQXpIM",
      "include_colab_link": true
    },
    "kernelspec": {
      "name": "python3",
      "display_name": "Python 3"
    },
    "language_info": {
      "name": "python"
    }
  },
  "cells": [
    {
      "cell_type": "markdown",
      "metadata": {
        "id": "view-in-github",
        "colab_type": "text"
      },
      "source": [
        "<a href=\"https://colab.research.google.com/github/JulianBasilio/OOP_58003/blob/main/Midterm_exam.ipynb\" target=\"_parent\"><img src=\"https://colab.research.google.com/assets/colab-badge.svg\" alt=\"Open In Colab\"/></a>"
      ]
    },
    {
      "cell_type": "code",
      "execution_count": null,
      "metadata": {
        "id": "5YfQe6yUXwr2",
        "colab": {
          "base_uri": "https://localhost:8080/",
          "height": 391
        },
        "outputId": "6b252f5a-38c2-4e9f-b4e7-4938ee776cc5"
      },
      "outputs": [
        {
          "name": "stdout",
          "output_type": "stream",
          "text": [
            "Enter the temperature in Celsius: 100\n",
            "373.15 Kelvin\n",
            "212.0 Fahrenheit\n",
            "Enter the temperature in Fahrenheit: 100\n"
          ]
        },
        {
          "output_type": "error",
          "ename": "TypeError",
          "evalue": "ignored",
          "traceback": [
            "\u001b[0;31m---------------------------------------------------------------------------\u001b[0m",
            "\u001b[0;31mTypeError\u001b[0m                                 Traceback (most recent call last)",
            "\u001b[0;32m<ipython-input-2-423407576930>\u001b[0m in \u001b[0;36m<module>\u001b[0;34m()\u001b[0m\n\u001b[1;32m     41\u001b[0m     \u001b[0mconvert\u001b[0m \u001b[0;34m=\u001b[0m \u001b[0mKelvinToCelcius\u001b[0m\u001b[0;34m\u001b[0m\u001b[0;34m\u001b[0m\u001b[0m\n\u001b[1;32m     42\u001b[0m     \u001b[0mprint\u001b[0m\u001b[0;34m(\u001b[0m\u001b[0mstr\u001b[0m\u001b[0;34m(\u001b[0m\u001b[0mconvert\u001b[0m\u001b[0;34m.\u001b[0m\u001b[0mconversion\u001b[0m\u001b[0;34m(\u001b[0m\u001b[0;34m)\u001b[0m\u001b[0;34m)\u001b[0m \u001b[0;34m+\u001b[0m \u001b[0;34m\" Celcius\"\u001b[0m\u001b[0;34m)\u001b[0m\u001b[0;34m\u001b[0m\u001b[0;34m\u001b[0m\u001b[0m\n\u001b[0;32m---> 43\u001b[0;31m \u001b[0mmain\u001b[0m\u001b[0;34m(\u001b[0m\u001b[0;34m)\u001b[0m\u001b[0;34m\u001b[0m\u001b[0;34m\u001b[0m\u001b[0m\n\u001b[0m",
            "\u001b[0;32m<ipython-input-2-423407576930>\u001b[0m in \u001b[0;36mmain\u001b[0;34m()\u001b[0m\n\u001b[1;32m     36\u001b[0m     \u001b[0mtempInFahrenheit\u001b[0m\u001b[0;34m=\u001b[0m\u001b[0mfloat\u001b[0m\u001b[0;34m(\u001b[0m\u001b[0minput\u001b[0m\u001b[0;34m(\u001b[0m\u001b[0;34m\"Enter the temperature in Fahrenheit: \"\u001b[0m\u001b[0;34m)\u001b[0m\u001b[0;34m)\u001b[0m\u001b[0;34m\u001b[0m\u001b[0;34m\u001b[0m\u001b[0m\n\u001b[1;32m     37\u001b[0m     \u001b[0mconvert\u001b[0m \u001b[0;34m=\u001b[0m \u001b[0mFahrenheitToCelsius\u001b[0m\u001b[0;34m\u001b[0m\u001b[0;34m\u001b[0m\u001b[0m\n\u001b[0;32m---> 38\u001b[0;31m     \u001b[0mprint\u001b[0m\u001b[0;34m(\u001b[0m\u001b[0mstr\u001b[0m\u001b[0;34m(\u001b[0m\u001b[0mconvert\u001b[0m\u001b[0;34m.\u001b[0m\u001b[0mconversion\u001b[0m\u001b[0;34m(\u001b[0m\u001b[0;34m)\u001b[0m\u001b[0;34m)\u001b[0m \u001b[0;34m+\u001b[0m \u001b[0;34m\" Celcius\"\u001b[0m\u001b[0;34m)\u001b[0m\u001b[0;34m\u001b[0m\u001b[0;34m\u001b[0m\u001b[0m\n\u001b[0m\u001b[1;32m     39\u001b[0m \u001b[0;34m\u001b[0m\u001b[0m\n\u001b[1;32m     40\u001b[0m     \u001b[0mtempinKelvin\u001b[0m\u001b[0;34m=\u001b[0m\u001b[0mfloat\u001b[0m\u001b[0;34m(\u001b[0m\u001b[0minput\u001b[0m\u001b[0;34m(\u001b[0m\u001b[0;34m\"Enter the temperature in Kelvin: \"\u001b[0m\u001b[0;34m)\u001b[0m\u001b[0;34m)\u001b[0m\u001b[0;34m\u001b[0m\u001b[0;34m\u001b[0m\u001b[0m\n",
            "\u001b[0;31mTypeError\u001b[0m: conversion() missing 1 required positional argument: 'self'"
          ]
        }
      ],
      "source": [
        "def main():\n",
        "    class TemperatureConversion:\n",
        "\n",
        "        def __init__(self, temp=1,):\n",
        "            self._temp = temp\n",
        "\n",
        "\n",
        "    class CelsiusToFahrenheit(TemperatureConversion):\n",
        "\n",
        "        def conversion(self):\n",
        "            return (self._temp * 9) / 5 + 32\n",
        "\n",
        "    class CelsiusToKelvin(TemperatureConversion):\n",
        "\n",
        "        def conversion(self):\n",
        "            return self._temp + 273.15\n",
        "\n",
        "    class FahrenheitToCelsius(TemperatureConversion):\n",
        "        def conversion(self):\n",
        "            return (self._temp - 32) * 0.55555555555\n",
        "\n",
        "    class KelvinToCelcius(TemperatureConversion):\n",
        "        def conversion(self):\n",
        "            return self._temp - 273.15\n",
        "\n",
        "    tempInCelsius = float(input(\"Enter the temperature in Celsius: \"))\n",
        "\n",
        "    convert = CelsiusToKelvin(tempInCelsius)\n",
        "\n",
        "    print(str(convert.conversion()) + \" Kelvin\")\n",
        "\n",
        "    convert = CelsiusToFahrenheit(tempInCelsius)\n",
        "\n",
        "    print(str(convert.conversion()) + \" Fahrenheit\")\n",
        "\n",
        "    tempInFahrenheit=float(input(\"Enter the temperature in Fahrenheit: \"))\n",
        "    convert = FahrenheitToCelsius\n",
        "    print(str(convert.conversion()) + \" Celcius\")\n",
        "\n",
        "    tempinKelvin=float(input(\"Enter the temperature in Kelvin: \"))\n",
        "    convert = KelvinToCelcius\n",
        "    print(str(convert.conversion()) + \" Celcius\")\n",
        "main()"
      ]
    },
    {
      "cell_type": "code",
      "source": [
        "from tkinter import *\n",
        "from tkinter import ttk\n",
        "window = Tk()\n",
        "\n",
        "window.title(\"Midterm in OOP\")\n",
        "window.geometry(\"700x500\")\n",
        "\n",
        "label = Label(window, text= \"Enter your fullname: \", fg= \"red\")\n",
        "label.place(x=50, y=100)\n",
        "\n",
        "myButton = Button(window,text=\"Click to display your fullname\", fg=\"red\")\n",
        "myButton.geometry(\"700x450\")\n",
        "myButton.pack()\n",
        "\n",
        "txtfld = Entry(window, border=5, font = (\"Arial\",16))\n",
        "txtfld.place(x=200, y=100)\n",
        "txtfld2 = Entry(window, border=5, font = (\"Arial\",16))\n",
        "txtfld2.place(x=200, y=170)\n",
        "\n",
        "\n",
        "\n",
        "window.mainloop()"
      ],
      "metadata": {
        "id": "rb_kdqFBkAFm"
      },
      "execution_count": null,
      "outputs": []
    }
  ]
}