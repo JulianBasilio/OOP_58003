{
  "nbformat": 4,
  "nbformat_minor": 0,
  "metadata": {
    "colab": {
      "name": "Operations and expressions",
      "provenance": [],
      "authorship_tag": "ABX9TyOlt8yEtd5sD1oLgLfKxyYM",
      "include_colab_link": true
    },
    "kernelspec": {
      "name": "python3",
      "display_name": "Python 3"
    },
    "language_info": {
      "name": "python"
    }
  },
  "cells": [
    {
      "cell_type": "markdown",
      "metadata": {
        "id": "view-in-github",
        "colab_type": "text"
      },
      "source": [
        "<a href=\"https://colab.research.google.com/github/JulianBasilio/OOP_58003/blob/main/Operations_and_expressions.ipynb\" target=\"_parent\"><img src=\"https://colab.research.google.com/assets/colab-badge.svg\" alt=\"Open In Colab\"/></a>"
      ]
    },
    {
      "cell_type": "markdown",
      "source": [
        "Boolean Operators"
      ],
      "metadata": {
        "id": "Hnvkq12ZJyne"
      }
    },
    {
      "cell_type": "code",
      "source": [
        "a=10\n",
        "\n",
        "print(10>9)\n",
        "print(10<9)\n",
        "print(10==9)\n",
        "\n",
        "print(a>9)"
      ],
      "metadata": {
        "colab": {
          "base_uri": "https://localhost:8080/"
        },
        "id": "9EeR3hVuvb2J",
        "outputId": "cf406419-5929-4b92-8aba-2706333656ee"
      },
      "execution_count": 1,
      "outputs": [
        {
          "output_type": "stream",
          "name": "stdout",
          "text": [
            "True\n",
            "False\n",
            "False\n",
            "True\n"
          ]
        }
      ]
    },
    {
      "cell_type": "markdown",
      "source": [
        "bool() Function"
      ],
      "metadata": {
        "id": "lzK6dlWbwSb-"
      }
    },
    {
      "cell_type": "code",
      "source": [
        "print(bool(1))\n",
        "print(bool(\"Maria\"))\n",
        "print(bool('Ana'))\n",
        "\n",
        "print(bool(0))\n",
        "print(bool(None))\n",
        "print(bool([]))"
      ],
      "metadata": {
        "colab": {
          "base_uri": "https://localhost:8080/"
        },
        "id": "d-UC_K5lwVtb",
        "outputId": "8adf0265-38ac-4acc-cac2-083450da7cd8"
      },
      "execution_count": null,
      "outputs": [
        {
          "output_type": "stream",
          "name": "stdout",
          "text": [
            "True\n",
            "True\n",
            "True\n",
            "False\n",
            "False\n",
            "False\n"
          ]
        }
      ]
    },
    {
      "cell_type": "markdown",
      "source": [
        "Functions can Return a Boolean"
      ],
      "metadata": {
        "id": "GrSv4G4FxEGc"
      }
    },
    {
      "cell_type": "code",
      "source": [
        "def myFunction():\n",
        "  return True\n",
        "\n",
        "print(myFunction())"
      ],
      "metadata": {
        "colab": {
          "base_uri": "https://localhost:8080/"
        },
        "id": "sdVAbjd-xIXj",
        "outputId": "48d68145-d72a-432c-a882-7eb1f00e2540"
      },
      "execution_count": null,
      "outputs": [
        {
          "output_type": "stream",
          "name": "stdout",
          "text": [
            "True\n"
          ]
        }
      ]
    },
    {
      "cell_type": "markdown",
      "source": [
        "Application 1"
      ],
      "metadata": {
        "id": "ALg82k-oK7tg"
      }
    },
    {
      "cell_type": "code",
      "source": [
        "a=6 \n",
        "b=7\n",
        "print(a==b)\n",
        "print(a!=a)"
      ],
      "metadata": {
        "colab": {
          "base_uri": "https://localhost:8080/"
        },
        "id": "WinxAmBNLA0R",
        "outputId": "2665e2bd-5d35-4d0d-ac4c-b11d20d39740"
      },
      "execution_count": 2,
      "outputs": [
        {
          "output_type": "stream",
          "name": "stdout",
          "text": [
            "False\n",
            "False\n"
          ]
        }
      ]
    },
    {
      "cell_type": "code",
      "source": [
        "if myFunction():\n",
        "  print(\"True\")\n",
        "else:\n",
        "  print(\"False\")"
      ],
      "metadata": {
        "colab": {
          "base_uri": "https://localhost:8080/"
        },
        "id": "ahFbvUInxqTr",
        "outputId": "c609fd56-f0b9-4c6d-e43c-c649ce49bee2"
      },
      "execution_count": null,
      "outputs": [
        {
          "output_type": "stream",
          "name": "stdout",
          "text": [
            "True\n"
          ]
        }
      ]
    },
    {
      "cell_type": "markdown",
      "source": [
        "Python Operators"
      ],
      "metadata": {
        "id": "VYr3FAOWz37J"
      }
    },
    {
      "cell_type": "code",
      "source": [
        "print(10+5)\n",
        "print(10-5)\n",
        "print(10*5)\n",
        "print(int(10/5))\n",
        "print(10%5)\n",
        "print(10/3)\n",
        "print(10//3)\n",
        "print(float(10**2))"
      ],
      "metadata": {
        "colab": {
          "base_uri": "https://localhost:8080/"
        },
        "id": "g_MzoAcBz51d",
        "outputId": "6be1b3d0-8cb5-4baa-c9f0-84d149e24f49"
      },
      "execution_count": null,
      "outputs": [
        {
          "output_type": "stream",
          "name": "stdout",
          "text": [
            "15\n",
            "5\n",
            "50\n",
            "2\n",
            "0\n",
            "3.3333333333333335\n",
            "3\n",
            "100.0\n"
          ]
        }
      ]
    },
    {
      "cell_type": "markdown",
      "source": [
        "Bitwise Operators"
      ],
      "metadata": {
        "id": "cTCq5rxz1XIo"
      }
    },
    {
      "cell_type": "code",
      "source": [
        "a = 60   #0011 1100\n",
        "b = 13\n",
        "\n",
        "print(a&b)\n",
        "print(a|b)\n",
        "print(a^b)\n",
        "print(a<<1)\n",
        "print(a>>1)"
      ],
      "metadata": {
        "colab": {
          "base_uri": "https://localhost:8080/"
        },
        "id": "RH0CyJmU1ZbV",
        "outputId": "414be45d-3652-459a-a0ef-a921cd69f495"
      },
      "execution_count": null,
      "outputs": [
        {
          "output_type": "stream",
          "name": "stdout",
          "text": [
            "12\n",
            "61\n",
            "49\n",
            "120\n",
            "30\n"
          ]
        }
      ]
    },
    {
      "cell_type": "markdown",
      "source": [
        "Application 2"
      ],
      "metadata": {
        "id": "dhraXRxb3Tja"
      }
    },
    {
      "cell_type": "code",
      "source": [
        "#Python Assignment Operators\n",
        "x=3\n",
        "x+=3\n",
        "x-=3\n",
        "x*=3\n",
        "x/=3\n",
        "x%=3"
      ],
      "metadata": {
        "id": "_JFdCOjV3VsR"
      },
      "execution_count": 5,
      "outputs": []
    },
    {
      "cell_type": "markdown",
      "source": [
        "Logical Operators"
      ],
      "metadata": {
        "id": "CktSlG854nPp"
      }
    },
    {
      "cell_type": "code",
      "source": [
        "s = True\n",
        "t = False\n",
        "\n",
        "not(s and t)"
      ],
      "metadata": {
        "colab": {
          "base_uri": "https://localhost:8080/"
        },
        "id": "b7WN3UVw4pup",
        "outputId": "e880af2c-6f4b-4d2e-acd7-3fdca49c9268"
      },
      "execution_count": null,
      "outputs": [
        {
          "output_type": "execute_result",
          "data": {
            "text/plain": [
              "True"
            ]
          },
          "metadata": {},
          "execution_count": 30
        }
      ]
    },
    {
      "cell_type": "code",
      "source": [
        "s is t\n",
        "\n",
        "s is not t"
      ],
      "metadata": {
        "colab": {
          "base_uri": "https://localhost:8080/"
        },
        "id": "ayFfecsC4692",
        "outputId": "fcae0901-b4f8-402f-f4cb-cc7205a88503"
      },
      "execution_count": null,
      "outputs": [
        {
          "output_type": "execute_result",
          "data": {
            "text/plain": [
              "True"
            ]
          },
          "metadata": {},
          "execution_count": 32
        }
      ]
    },
    {
      "cell_type": "markdown",
      "source": [
        "#Control Structure"
      ],
      "metadata": {
        "id": "Y_HiuJVQ5JZn"
      }
    },
    {
      "cell_type": "code",
      "source": [
        "g = 200\n",
        "h = 100\n",
        "\n",
        "if g>h:\n",
        "  print(\"g is greater than h\")\n"
      ],
      "metadata": {
        "colab": {
          "base_uri": "https://localhost:8080/"
        },
        "id": "z2q59NvM5oVC",
        "outputId": "c4507d4c-81fd-4111-9cdc-faef1da33a55"
      },
      "execution_count": null,
      "outputs": [
        {
          "output_type": "stream",
          "name": "stdout",
          "text": [
            "g is greater than h\n"
          ]
        }
      ]
    },
    {
      "cell_type": "markdown",
      "source": [
        "Elif Statement"
      ],
      "metadata": {
        "id": "pItYUgcq6PQr"
      }
    },
    {
      "cell_type": "code",
      "source": [
        "if g>h:\n",
        "  print(\"g is greater than h\")\n",
        "elif g<h:\n",
        "  print(\"g is less than h\")"
      ],
      "metadata": {
        "colab": {
          "base_uri": "https://localhost:8080/"
        },
        "id": "TVze_DvA6Ri4",
        "outputId": "47cdecbe-0d81-40ca-9cc0-5189bdd452a2"
      },
      "execution_count": null,
      "outputs": [
        {
          "output_type": "stream",
          "name": "stdout",
          "text": [
            "g is greater than h\n"
          ]
        }
      ]
    },
    {
      "cell_type": "markdown",
      "source": [
        "Else Statement"
      ],
      "metadata": {
        "id": "7Zx2-AII6ctN"
      }
    },
    {
      "cell_type": "code",
      "source": [
        "if g>h:\n",
        "  print(\"g is greater than h\")\n",
        "elif g<h:\n",
        "  print(\"g is less than h\")\n",
        "else:\n",
        "  print(\"g is equal to h\")"
      ],
      "metadata": {
        "colab": {
          "base_uri": "https://localhost:8080/"
        },
        "id": "FF2Qgx1m6emu",
        "outputId": "f7a7984b-4e2e-428f-a86d-2c5de60de48c"
      },
      "execution_count": null,
      "outputs": [
        {
          "output_type": "stream",
          "name": "stdout",
          "text": [
            "g is equal to h\n"
          ]
        }
      ]
    },
    {
      "cell_type": "markdown",
      "source": [
        "Short Hand If Statement..."
      ],
      "metadata": {
        "id": "2MeTSyDi60zu"
      }
    },
    {
      "cell_type": "code",
      "source": [
        "if g==h: print('g is equal to h')"
      ],
      "metadata": {
        "colab": {
          "base_uri": "https://localhost:8080/"
        },
        "id": "Mnjbz7bH63FK",
        "outputId": "9fb7cf48-8d19-403c-d9d6-0e7d96d6e46b"
      },
      "execution_count": null,
      "outputs": [
        {
          "output_type": "stream",
          "name": "stdout",
          "text": [
            "g is equal to h\n"
          ]
        }
      ]
    },
    {
      "cell_type": "markdown",
      "source": [
        "Short Hand If.. Else Statement"
      ],
      "metadata": {
        "id": "K44QJ30g7DbW"
      }
    },
    {
      "cell_type": "code",
      "source": [
        "print(\"G\") if g>h else print(\"H\") "
      ],
      "metadata": {
        "colab": {
          "base_uri": "https://localhost:8080/"
        },
        "id": "61q05UJs7GVT",
        "outputId": "09c4497f-122b-477e-f86c-ee4b3d0c42d7"
      },
      "execution_count": null,
      "outputs": [
        {
          "output_type": "stream",
          "name": "stdout",
          "text": [
            "G\n"
          ]
        }
      ]
    },
    {
      "cell_type": "markdown",
      "source": [
        "Nested If... Else"
      ],
      "metadata": {
        "id": "AphciPRX7nJV"
      }
    },
    {
      "cell_type": "code",
      "source": [
        "x = int(input())\n",
        "\n",
        "if x>10:\n",
        "  print(\"x is above 10 \")\n",
        "  if x>20:\n",
        "    print(\"and also above 20\")\n",
        "    if x>30:\n",
        "      print(\"and also above 30\")\n",
        "      if x>40:\n",
        "        print(\"and also above 40\")\n",
        "      else:\n",
        "        print(\"but not above 40\")\n",
        "        if x>50:\n",
        "          print(\"and also above 50\")\n",
        "        else:\n",
        "          print(\"but not above 50\")"
      ],
      "metadata": {
        "colab": {
          "base_uri": "https://localhost:8080/"
        },
        "id": "w9bs08ZL7sZO",
        "outputId": "c5b45df4-c194-40e2-88cb-a26817e93631"
      },
      "execution_count": null,
      "outputs": [
        {
          "output_type": "stream",
          "name": "stdout",
          "text": [
            "41\n",
            "x is above 10 \n",
            "and also above 20\n",
            "and also above 30\n",
            "and also above 40\n"
          ]
        }
      ]
    },
    {
      "cell_type": "markdown",
      "source": [
        "Application 3- Write a program (using if else) that determines if the input age is qualified to vote or not. The qualifying age is 18 years old and above.\n"
      ],
      "metadata": {
        "id": "OlT7Hu8z89oS"
      }
    },
    {
      "cell_type": "code",
      "source": [
        "age=int(input())\n",
        "\n",
        "if age>=18:\n",
        "  print(\"You are qualified to vote\")\n",
        "else:\n",
        "  print(\"You are not qualified to vote\")"
      ],
      "metadata": {
        "colab": {
          "base_uri": "https://localhost:8080/"
        },
        "id": "SI1f4ut39DEL",
        "outputId": "c5c4550e-cec6-484b-ab3d-1e211ece29b9"
      },
      "execution_count": null,
      "outputs": [
        {
          "output_type": "stream",
          "name": "stdout",
          "text": [
            "24\n",
            "You are qualified to vote\n"
          ]
        }
      ]
    },
    {
      "cell_type": "markdown",
      "source": [
        "#Loop Statement"
      ],
      "metadata": {
        "id": "pW8OYdMLBJhp"
      }
    },
    {
      "cell_type": "code",
      "source": [
        "week = ['Sunday', 'Monday', 'Tuesday', 'Wednesday', \"Thursday\", \"Friday\", \"Saturday\"]\n",
        "season = ['rainy', 'sunny']\n",
        "\n",
        "for x in week:\n",
        "  for y in season:\n",
        "    print(y,x)"
      ],
      "metadata": {
        "colab": {
          "base_uri": "https://localhost:8080/"
        },
        "id": "H_NaMOSMBRaI",
        "outputId": "906569cb-5811-4333-d78f-dd13a0d8a007"
      },
      "execution_count": null,
      "outputs": [
        {
          "output_type": "stream",
          "name": "stdout",
          "text": [
            "rainy Sunday\n",
            "sunny Sunday\n",
            "rainy Monday\n",
            "sunny Monday\n",
            "rainy Tuesday\n",
            "sunny Tuesday\n",
            "rainy Wednesday\n",
            "sunny Wednesday\n",
            "rainy Thursday\n",
            "sunny Thursday\n",
            "rainy Friday\n",
            "sunny Friday\n",
            "rainy Saturday\n",
            "sunny Saturday\n"
          ]
        }
      ]
    },
    {
      "cell_type": "markdown",
      "source": [
        "The break statement"
      ],
      "metadata": {
        "id": "IHlmyCI9ClTy"
      }
    },
    {
      "cell_type": "code",
      "source": [
        "for x in week:\n",
        "  if x ==\"Friday\":\n",
        "    break\n",
        "  print(x)"
      ],
      "metadata": {
        "colab": {
          "base_uri": "https://localhost:8080/"
        },
        "id": "HmM11a5-CnV2",
        "outputId": "0e94ccd3-d683-4202-a755-3791f4519d72"
      },
      "execution_count": null,
      "outputs": [
        {
          "output_type": "stream",
          "name": "stdout",
          "text": [
            "Sunday\n",
            "Monday\n",
            "Tuesday\n",
            "Wednesday\n",
            "Thursday\n"
          ]
        }
      ]
    },
    {
      "cell_type": "code",
      "source": [
        "# If you want to display Sunday to Friday\n",
        "for x in week:\n",
        "  print(x)\n",
        "  if x==\"Friday\":\n",
        "    break"
      ],
      "metadata": {
        "colab": {
          "base_uri": "https://localhost:8080/"
        },
        "id": "vLx8qiDDDXNU",
        "outputId": "2b9d5493-920d-4be0-8fec-4ca9a97653e1"
      },
      "execution_count": null,
      "outputs": [
        {
          "output_type": "stream",
          "name": "stdout",
          "text": [
            "Sunday\n",
            "Monday\n",
            "Tuesday\n",
            "Wednesday\n",
            "Thursday\n",
            "Friday\n"
          ]
        }
      ]
    },
    {
      "cell_type": "markdown",
      "source": [
        "Application 4 - To display only \"Friday\""
      ],
      "metadata": {
        "id": "8Qxv7ArxD51K"
      }
    },
    {
      "cell_type": "code",
      "source": [
        "for x in week:\n",
        "  if x==\"Friday\":\n",
        "    print(x)\n",
        "    break"
      ],
      "metadata": {
        "colab": {
          "base_uri": "https://localhost:8080/"
        },
        "id": "JtEPNMuiEA3x",
        "outputId": "1c07e221-8728-408f-d340-97b65041206f"
      },
      "execution_count": null,
      "outputs": [
        {
          "output_type": "stream",
          "name": "stdout",
          "text": [
            "Friday\n"
          ]
        }
      ]
    },
    {
      "cell_type": "markdown",
      "source": [
        "While loop"
      ],
      "metadata": {
        "id": "PX74Zz32FFzS"
      }
    },
    {
      "cell_type": "code",
      "source": [
        "i = 1\n",
        "\n",
        "while i<6:\n",
        "  print(i)\n",
        "  i+=1   #same as i = i +1"
      ],
      "metadata": {
        "colab": {
          "base_uri": "https://localhost:8080/"
        },
        "id": "Vv53xehgFIGo",
        "outputId": "4eb700bf-25fe-4ffc-b59f-77ce72268d2b"
      },
      "execution_count": null,
      "outputs": [
        {
          "output_type": "stream",
          "name": "stdout",
          "text": [
            "1\n",
            "2\n",
            "3\n",
            "4\n",
            "5\n"
          ]
        }
      ]
    },
    {
      "cell_type": "markdown",
      "source": [
        "Application 5 - To display only no.2 using break statement"
      ],
      "metadata": {
        "id": "riJbspW-FnnK"
      }
    },
    {
      "cell_type": "code",
      "source": [
        "i = 1\n",
        "\n",
        "while i<6:\n",
        "  if i==2:\n",
        "    print(i)\n",
        "    break\n",
        "  i+=1"
      ],
      "metadata": {
        "colab": {
          "base_uri": "https://localhost:8080/"
        },
        "id": "v_3J0vWIFtsV",
        "outputId": "40178239-c1c3-46db-e9be-264e5f83ee1c"
      },
      "execution_count": null,
      "outputs": [
        {
          "output_type": "stream",
          "name": "stdout",
          "text": [
            "2\n"
          ]
        }
      ]
    }
  ]
}