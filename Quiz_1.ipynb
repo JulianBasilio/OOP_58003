{
  "nbformat": 4,
  "nbformat_minor": 0,
  "metadata": {
    "colab": {
      "name": "Quiz#1.ipynb",
      "provenance": [],
      "authorship_tag": "ABX9TyNyOBqY+30ixu9W1N3dgis4",
      "include_colab_link": true
    },
    "kernelspec": {
      "name": "python3",
      "display_name": "Python 3"
    },
    "language_info": {
      "name": "python"
    }
  },
  "cells": [
    {
      "cell_type": "markdown",
      "metadata": {
        "id": "view-in-github",
        "colab_type": "text"
      },
      "source": [
        "<a href=\"https://colab.research.google.com/github/JulianBasilio/OOP_58003/blob/main/Quiz_1.ipynb\" target=\"_parent\"><img src=\"https://colab.research.google.com/assets/colab-badge.svg\" alt=\"Open In Colab\"/></a>"
      ]
    },
    {
      "cell_type": "code",
      "execution_count": null,
      "metadata": {
        "id": "0508DQrtcwjq"
      },
      "outputs": [],
      "source": [
        ""
      ]
    },
    {
      "cell_type": "code",
      "source": [
        "class Bank_Account:         #constructor with AccountNumber, Name\n",
        "  def __innit__(self,AccountNumber,Name):\n",
        "    self.AccountNumber = AccountNumber\n",
        "    self.Name = Name\n",
        "    self.balance = balance\n",
        "\n",
        "    #deposit() method\n",
        "    def Deposit(self, deposit):\n",
        "      self.balance = self.balance + deposit\n",
        "   #display() method\n",
        "    def display(self):\n",
        "      print(\"Account Number is :\" , self.AccountNumber)\n",
        "      print(\"Account Name is :\", self.Name)\n",
        "      print(\"balance is : \", self.balance)"
      ],
      "metadata": {
        "id": "wfyb9ANu5WL7"
      },
      "execution_count": 7,
      "outputs": []
    }
  ]
}