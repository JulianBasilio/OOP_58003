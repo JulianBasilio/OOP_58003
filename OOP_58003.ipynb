{
  "nbformat": 4,
  "nbformat_minor": 0,
  "metadata": {
    "colab": {
      "name": "OOP 58003",
      "provenance": [],
      "authorship_tag": "ABX9TyOLz+A9OUE7jhLqRrZyG2c3",
      "include_colab_link": true
    },
    "kernelspec": {
      "name": "python3",
      "display_name": "Python 3"
    },
    "language_info": {
      "name": "python"
    }
  },
  "cells": [
    {
      "cell_type": "markdown",
      "metadata": {
        "id": "view-in-github",
        "colab_type": "text"
      },
      "source": [
        "<a href=\"https://colab.research.google.com/github/JulianBasilio/OOP_58003/blob/main/OOP_58003.ipynb\" target=\"_parent\"><img src=\"https://colab.research.google.com/assets/colab-badge.svg\" alt=\"Open In Colab\"/></a>"
      ]
    },
    {
      "cell_type": "code",
      "execution_count": null,
      "metadata": {
        "id": "8IlU2_wDpASN",
        "colab": {
          "base_uri": "https://localhost:8080/"
        },
        "outputId": "bf1a3e80-c463-42ce-cc44-925282be6095"
      },
      "outputs": [
        {
          "output_type": "stream",
          "name": "stdout",
          "text": [
            "hello 0\n",
            "hello 1\n",
            "hello 2\n",
            "hello 3\n",
            "hello 4\n",
            "hello 5\n",
            "hello 6\n",
            "hello 7\n",
            "hello 8\n",
            "hello 9\n",
            "hello 10\n"
          ]
        }
      ],
      "source": [
        "i=0\n",
        "g=\"hello\"\n",
        "while i<11:\n",
        "  print(g,i)\n",
        "  i+=1 #same as i= i+1"
      ]
    },
    {
      "cell_type": "code",
      "source": [
        "x=4\n",
        "while x<10:\n",
        "  print(x)\n",
        "  x+=1"
      ],
      "metadata": {
        "id": "cu5krw1SEHjz",
        "colab": {
          "base_uri": "https://localhost:8080/"
        },
        "outputId": "272a702c-dacf-41d7-f3fa-ddc729aeae64"
      },
      "execution_count": null,
      "outputs": [
        {
          "output_type": "stream",
          "name": "stdout",
          "text": [
            "4\n",
            "5\n",
            "6\n",
            "7\n",
            "8\n",
            "9\n"
          ]
        }
      ]
    }
  ]
}